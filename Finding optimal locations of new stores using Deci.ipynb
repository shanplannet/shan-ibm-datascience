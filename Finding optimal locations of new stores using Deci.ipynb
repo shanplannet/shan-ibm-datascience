{
    "cells": [
        {
            "cell_type": "markdown",
            "metadata": {
                "render": false
            },
            "source": "# Finding Optimal Locations for New Stores\n\nThis notebook is an example of how **Decision Optimization** can help to prescribe decisions for a complex constrained problem.\n\nWhen you finish this notebook, you'll have a foundational knowledge of _Prescriptive Analytics_.\n\n>This notebook requires the Commercial Edition of CPLEX engines, which is included in the Default Python 3.7 XS + DO in Watson Studio.\n\nTable of contents:\n\n-  [Describe the business problem](#Describe-the-business-problem)\n*  [How decision optimization (prescriptive analytics) can help](#How--decision-optimization-can-help)\n*  [Use decision optimization](#Use-decision-optimization)\n    *  [Step 1: Import the docplex package](#Step-1:-Import-the-docplex-package)\n    -  [Step 2: Model the data](#Step-2:-Model-the-data)\n    *  [Step 3: Prepare the data](#Step-3:-Prepare-the-data)\n    -  [Step 4: Set up the prescriptive model](#Step-4:-Set-up-the-prescriptive-model)\n        * [Define the decision variables](#Define-the-decision-variables)\n        * [Express the business constraints](#Express-the-business-constraints)\n        * [Express the objective](#Express-the-objective)\n        * [Solve with the Decision Optimization solve service](#Solve-with-the-Decision-Optimization-solve-service)\n    *  [Step 5: Investigate the solution and run an example analysis](#Step-5:-Investigate-the-solution-and-then-run-an-example-analysis)\n*  [Summary](#Summary)\n\n****"
        },
        {
            "cell_type": "markdown",
            "metadata": {
                "render": false
            },
            "source": "## Describe the business problem\n\n* A fictional Coffee Company plans to open N shops in the near future and needs to determine where they should be located knowing the following:\n    * Most of the customers of this coffee brewer enjoy reading and borrowing books, so the goal is to locate those shops in such a way that all the city public libraries are within minimal walking distance.\n* We use <a href=\"https://data.cityofchicago.org\" target=\"_blank\" rel=\"noopener noreferrer\">Chicago open data</a> for this example.\n* We implement a <a href=\"https://en.wikipedia.org/wiki/K-medians_clustering\" target=\"_blank\" rel=\"noopener noreferrer\">K-Median model</a> to get the optimal location of our future shops."
        },
        {
            "cell_type": "markdown",
            "metadata": {
                "render": false
            },
            "source": "## How  decision optimization can help\n\n* Prescriptive analytics (decision optimization) technology recommends actions that are based on desired outcomes.  It takes into account specific scenarios, resources, and knowledge of past and current events. With this insight, your organization can make better decisions and have greater control of business outcomes.  \n\n* Prescriptive analytics is the next step on the path to insight-based actions. It creates value through synergy with predictive analytics, which analyzes data to predict future outcomes.  \n\n* Prescriptive analytics takes that insight to the next level by suggesting the optimal way to handle that future situation. Organizations that can act fast in dynamic conditions and make superior decisions in uncertain environments gain a strong competitive advantage.  \n<br/>\n\nWith prescriptive analytics, you can: \n\n* Automate the complex decisions and trade-offs to better manage your limited resources.\n* Take advantage of a future opportunity or mitigate a future risk.\n* Proactively update recommendations based on changing events.\n* Meet operational goals, increase customer loyalty, prevent threats and fraud, and optimize business processes."
        },
        {
            "cell_type": "markdown",
            "metadata": {},
            "source": "## Use decision optimization"
        },
        {
            "cell_type": "markdown",
            "metadata": {},
            "source": "### Step 1: Import the docplex package \n\nThis package is presintalled on Watson Studio."
        },
        {
            "cell_type": "code",
            "execution_count": 1,
            "metadata": {},
            "outputs": [],
            "source": "import sys\nimport docplex.mp"
        },
        {
            "cell_type": "markdown",
            "metadata": {},
            "source": "<i>Note that the more global package docplex contains another subpackage docplex.cp that is dedicated to Constraint Programming, another branch of optimization.</i>"
        },
        {
            "cell_type": "markdown",
            "metadata": {
                "render": false
            },
            "source": "### Step 2: Model the data\n\n- The data for this problem is quite simple: it is composed of the list of public libraries and their geographical locations.\n- The data is acquired from <a href=\"https://data.cityofchicago.org\" target=\"_blank\" rel=\"noopener noreferrer\">Chicago open data</a> as a JSON file, which is in the following format:\n<code>\ndata\" : [ [ 1, \"13BFA4C7-78CE-4D83-B53D-B57C60B701CF\", 1, 1441918880, \"885709\", 1441918880, \"885709\", null, \"Albany Park\", \"M, W: 10AM-6PM;  TU, TH: 12PM-8PM; F, SA: 9AM-5PM; SU: Closed\", \"Yes\", \"Yes \", \"3401 W. Foster Avenue\", \"CHICAGO\", \"IL\", \"60625\", \"(773) 539-5450\", [ \"http://www.chipublib.org/locations/1/\", null ], [ null, \"41.975456\", \"-87.71409\", null, false ] ]\n</code>\nThis code snippet represents library \"**3401 W. Foster Avenue**\" located at **41.975456, -87.71409**\n"
        },
        {
            "cell_type": "markdown",
            "metadata": {
                "render": false
            },
            "source": "### Step 3: Prepare the data\nWe need to collect the list of public libraries locations and keep their names, latitudes, and longitudes."
        },
        {
            "cell_type": "code",
            "execution_count": 2,
            "metadata": {},
            "outputs": [],
            "source": "# Store longitude, latitude and street crossing name of each public library location.\nclass XPoint(object):\n    def __init__(self, x, y):\n        self.x = x\n        self.y = y\n    def __str__(self):\n        return \"P(%g_%g)\" % (self.x, self.y)\n\nclass NamedPoint(XPoint):\n    def __init__(self, name, x, y):\n        XPoint.__init__(self, x, y)\n        self.name = name\n    def __str__(self):\n        return self.name"
        },
        {
            "cell_type": "markdown",
            "metadata": {
                "render": false
            },
            "source": "#### Define how to compute the earth distance between 2 points\nTo easily compute distance between 2 points, we use the Python package <a href=\"https://pypi.python.org/pypi/geopy\" target=\"_blank\" rel=\"noopener noreferrer\">geopy</a>"
        },
        {
            "cell_type": "code",
            "execution_count": 3,
            "metadata": {},
            "outputs": [],
            "source": "try:\n    import geopy.distance\nexcept:\n    if hasattr(sys, 'real_prefix'):\n        #we are in a virtual env.\n        !pip install geopy \n    else:\n        !pip install --user geopy"
        },
        {
            "cell_type": "code",
            "execution_count": 4,
            "metadata": {},
            "outputs": [],
            "source": "# Simple distance computation between 2 locations.\nfrom geopy.distance import great_circle\n \ndef get_distance(p1, p2):\n    return great_circle((p1.y, p1.x), (p2.y, p2.x)).miles"
        },
        {
            "cell_type": "markdown",
            "metadata": {
                "render": false
            },
            "source": "#### Declare the list of libraries\nParse the JSON file to get the list of libraries and store them as Python elements."
        },
        {
            "cell_type": "code",
            "execution_count": 5,
            "metadata": {
                "render": false
            },
            "outputs": [],
            "source": "def build_libraries_from_url(url, name_pos, lat_long_pos):\n    import requests\n    import json\n\n    r = requests.get(url)\n    myjson = json.loads(r.text, parse_constant='utf-8')\n    myjson = myjson['data']\n\n    libraries = []\n    k = 1\n    for location in myjson:\n        uname = location[name_pos]\n        try:\n            latitude = float(location[lat_long_pos][1])\n            longitude = float(location[lat_long_pos][2])\n        except TypeError:\n            latitude = longitude = None\n        try:\n            name = str(uname)\n        except:\n            name = \"???\"\n        name = \"P_%s_%d\" % (name, k)\n        if latitude and longitude:\n            cp = NamedPoint(name, longitude, latitude)\n            libraries.append(cp)\n            k += 1\n    return libraries"
        },
        {
            "cell_type": "code",
            "execution_count": 6,
            "metadata": {},
            "outputs": [],
            "source": "libraries = build_libraries_from_url('https://data.cityofchicago.org/api/views/x8fc-8rcq/rows.json?accessType=DOWNLOAD',\n                                   name_pos=10,\n                                   lat_long_pos=16)"
        },
        {
            "cell_type": "code",
            "execution_count": 7,
            "metadata": {
                "render": false
            },
            "outputs": [
                {
                    "name": "stdout",
                    "output_type": "stream",
                    "text": "There are 81 public libraries in Chicago\n"
                }
            ],
            "source": "print(\"There are %d public libraries in Chicago\" % (len(libraries)))"
        },
        {
            "cell_type": "markdown",
            "metadata": {},
            "source": "#### Define number of shops to open\nCreate a constant that indicates how many coffee shops we would like to open."
        },
        {
            "cell_type": "code",
            "execution_count": 8,
            "metadata": {
                "render": false
            },
            "outputs": [
                {
                    "name": "stdout",
                    "output_type": "stream",
                    "text": "We would like to open 5 coffee shops\n"
                }
            ],
            "source": "nb_shops = 5\nprint(\"We would like to open %d coffee shops\" % nb_shops)"
        },
        {
            "cell_type": "markdown",
            "metadata": {
                "render": false
            },
            "source": "#### Validate the data by displaying them\nWe will use the <a href=\"https://folium.readthedocs.org/en/latest/quickstart.html#getting-started\" target=\"_blank\" rel=\"noopener noreferrer\">folium</a> library to display a map with markers."
        },
        {
            "cell_type": "code",
            "execution_count": 9,
            "metadata": {},
            "outputs": [
                {
                    "name": "stdout",
                    "output_type": "stream",
                    "text": "Collecting folium\n  Downloading folium-0.12.1.post1-py2.py3-none-any.whl (95 kB)\n\u001b[K     |\u2588\u2588\u2588\u2588\u2588\u2588\u2588\u2588\u2588\u2588\u2588\u2588\u2588\u2588\u2588\u2588\u2588\u2588\u2588\u2588\u2588\u2588\u2588\u2588\u2588\u2588\u2588\u2588\u2588\u2588\u2588\u2588| 95 kB 5.9 MB/s  eta 0:00:01\n\u001b[?25hRequirement already satisfied: requests in /opt/conda/envs/Python-3.9/lib/python3.9/site-packages (from folium) (2.26.0)\nRequirement already satisfied: numpy in /opt/conda/envs/Python-3.9/lib/python3.9/site-packages (from folium) (1.20.3)\nRequirement already satisfied: jinja2>=2.9 in /opt/conda/envs/Python-3.9/lib/python3.9/site-packages (from folium) (3.0.2)\nCollecting branca>=0.3.0\n  Downloading branca-0.5.0-py3-none-any.whl (24 kB)\nRequirement already satisfied: MarkupSafe>=2.0 in /opt/conda/envs/Python-3.9/lib/python3.9/site-packages (from jinja2>=2.9->folium) (2.0.1)\nRequirement already satisfied: certifi>=2017.4.17 in /opt/conda/envs/Python-3.9/lib/python3.9/site-packages (from requests->folium) (2021.10.8)\nRequirement already satisfied: urllib3<1.27,>=1.21.1 in /opt/conda/envs/Python-3.9/lib/python3.9/site-packages (from requests->folium) (1.26.7)\nRequirement already satisfied: charset-normalizer~=2.0.0 in /opt/conda/envs/Python-3.9/lib/python3.9/site-packages (from requests->folium) (2.0.4)\nRequirement already satisfied: idna<4,>=2.5 in /opt/conda/envs/Python-3.9/lib/python3.9/site-packages (from requests->folium) (3.3)\nInstalling collected packages: branca, folium\nSuccessfully installed branca-0.5.0 folium-0.12.1.post1\n"
                }
            ],
            "source": "try:\n    import folium\nexcept:\n    if hasattr(sys, 'real_prefix'):\n        #we are in a virtual env.\n        !pip install folium \n    else:\n        !pip install folium"
        },
        {
            "cell_type": "code",
            "execution_count": 10,
            "metadata": {
                "scrolled": true
            },
            "outputs": [
                {
                    "data": {
                        "text/html": "<div style=\"width:100%;\"><div style=\"position:relative;width:100%;height:0;padding-bottom:60%;\"><span style=\"color:#565656\">Make this Notebook Trusted to load map: File -> Trust Notebook</span><iframe srcdoc=\"&lt;!DOCTYPE html&gt;\n&lt;head&gt;    \n    &lt;meta http-equiv=&quot;content-type&quot; content=&quot;text/html; charset=UTF-8&quot; /&gt;\n    \n        &lt;script&gt;\n            L_NO_TOUCH = false;\n            L_DISABLE_3D = false;\n        &lt;/script&gt;\n    \n    &lt;style&gt;html, body {width: 100%;height: 100%;margin: 0;padding: 0;}&lt;/style&gt;\n    &lt;style&gt;#map {position:absolute;top:0;bottom:0;right:0;left:0;}&lt;/style&gt;\n    &lt;script src=&quot;https://cdn.jsdelivr.net/npm/leaflet@1.6.0/dist/leaflet.js&quot;&gt;&lt;/script&gt;\n    &lt;script src=&quot;https://code.jquery.com/jquery-1.12.4.min.js&quot;&gt;&lt;/script&gt;\n    &lt;script src=&quot;https://maxcdn.bootstrapcdn.com/bootstrap/3.2.0/js/bootstrap.min.js&quot;&gt;&lt;/script&gt;\n    &lt;script src=&quot;https://cdnjs.cloudflare.com/ajax/libs/Leaflet.awesome-markers/2.0.2/leaflet.awesome-markers.js&quot;&gt;&lt;/script&gt;\n    &lt;link rel=&quot;stylesheet&quot; href=&quot;https://cdn.jsdelivr.net/npm/leaflet@1.6.0/dist/leaflet.css&quot;/&gt;\n    &lt;link rel=&quot;stylesheet&quot; href=&quot;https://maxcdn.bootstrapcdn.com/bootstrap/3.2.0/css/bootstrap.min.css&quot;/&gt;\n    &lt;link rel=&quot;stylesheet&quot; href=&quot;https://maxcdn.bootstrapcdn.com/bootstrap/3.2.0/css/bootstrap-theme.min.css&quot;/&gt;\n    &lt;link rel=&quot;stylesheet&quot; href=&quot;https://maxcdn.bootstrapcdn.com/font-awesome/4.6.3/css/font-awesome.min.css&quot;/&gt;\n    &lt;link rel=&quot;stylesheet&quot; href=&quot;https://cdnjs.cloudflare.com/ajax/libs/Leaflet.awesome-markers/2.0.2/leaflet.awesome-markers.css&quot;/&gt;\n    &lt;link rel=&quot;stylesheet&quot; href=&quot;https://cdn.jsdelivr.net/gh/python-visualization/folium/folium/templates/leaflet.awesome.rotate.min.css&quot;/&gt;\n    \n            &lt;meta name=&quot;viewport&quot; content=&quot;width=device-width,\n                initial-scale=1.0, maximum-scale=1.0, user-scalable=no&quot; /&gt;\n            &lt;style&gt;\n                #map_d75431e01c6d64f956d3f8b74689e5dd {\n                    position: relative;\n                    width: 100.0%;\n                    height: 100.0%;\n                    left: 0.0%;\n                    top: 0.0%;\n                }\n            &lt;/style&gt;\n        \n&lt;/head&gt;\n&lt;body&gt;    \n    \n            &lt;div class=&quot;folium-map&quot; id=&quot;map_d75431e01c6d64f956d3f8b74689e5dd&quot; &gt;&lt;/div&gt;\n        \n&lt;/body&gt;\n&lt;script&gt;    \n    \n            var map_d75431e01c6d64f956d3f8b74689e5dd = L.map(\n                &quot;map_d75431e01c6d64f956d3f8b74689e5dd&quot;,\n                {\n                    center: [41.878, -87.629],\n                    crs: L.CRS.EPSG3857,\n                    zoom: 11,\n                    zoomControl: true,\n                    preferCanvas: false,\n                }\n            );\n\n            \n\n        \n    \n            var tile_layer_6816c8d6c73dee5e4f8ef37738cb239f = L.tileLayer(\n                &quot;https://{s}.tile.openstreetmap.org/{z}/{x}/{y}.png&quot;,\n                {&quot;attribution&quot;: &quot;Data by \\u0026copy; \\u003ca href=\\&quot;http://openstreetmap.org\\&quot;\\u003eOpenStreetMap\\u003c/a\\u003e, under \\u003ca href=\\&quot;http://www.openstreetmap.org/copyright\\&quot;\\u003eODbL\\u003c/a\\u003e.&quot;, &quot;detectRetina&quot;: false, &quot;maxNativeZoom&quot;: 18, &quot;maxZoom&quot;: 18, &quot;minZoom&quot;: 0, &quot;noWrap&quot;: false, &quot;opacity&quot;: 1, &quot;subdomains&quot;: &quot;abc&quot;, &quot;tms&quot;: false}\n            ).addTo(map_d75431e01c6d64f956d3f8b74689e5dd);\n        \n    \n            var marker_0764e9839323dcfb157dd12201fff2ee = L.marker(\n                [41.69198346617567, -87.6739093032301],\n                {}\n            ).addTo(map_d75431e01c6d64f956d3f8b74689e5dd);\n        \n    \n            var marker_aaa4b4183d6cf1a1f9fbd986917138bd = L.marker(\n                [41.97557881655979, -87.71361314512697],\n                {}\n            ).addTo(map_d75431e01c6d64f956d3f8b74689e5dd);\n        \n    \n            var marker_75e33e7310c1174342786b8712c9f508 = L.marker(\n                [41.746393038286826, -87.5860053710736],\n                {}\n            ).addTo(map_d75431e01c6d64f956d3f8b74689e5dd);\n        \n    \n            var marker_b7b0b68cdfa5697c5ea480ff9ac8f71c = L.marker(\n                [41.73244482025524, -87.65772892721816],\n                {}\n            ).addTo(map_d75431e01c6d64f956d3f8b74689e5dd);\n        \n    \n            var marker_bb5cfab85d27f1da95f56959ad0f1a18 = L.marker(\n                [41.978098111742476, -87.81420029973704],\n                {}\n            ).addTo(map_d75431e01c6d64f956d3f8b74689e5dd);\n        \n    \n            var marker_454f4034a03f9b7847fe0c1078602132 = L.marker(\n                [41.77875389246921, -87.72374295317714],\n                {}\n            ).addTo(map_d75431e01c6d64f956d3f8b74689e5dd);\n        \n    \n            var marker_402d2630a5feb8df24a7159d9b912eb1 = L.marker(\n                [41.86946341218242, -87.66072612668584],\n                {}\n            ).addTo(map_d75431e01c6d64f956d3f8b74689e5dd);\n        \n    \n            var marker_871bbf2852f07c7caf3d53f554d8913d = L.marker(\n                [41.997213372156295, -87.76211751799003],\n                {}\n            ).addTo(map_d75431e01c6d64f956d3f8b74689e5dd);\n        \n    \n            var marker_bc4750566dd741a2cab4a616c5c690e4 = L.marker(\n                [41.78202569697298, -87.63738794358196],\n                {}\n            ).addTo(map_d75431e01c6d64f956d3f8b74689e5dd);\n        \n    \n            var marker_44499af909539b6605276bf6d131e3cd = L.marker(\n                [41.99095923823291, -87.660442745415],\n                {}\n            ).addTo(map_d75431e01c6d64f956d3f8b74689e5dd);\n        \n    \n            var marker_cbfe2fbc01d948bd95b8091c36198a50 = L.marker(\n                [41.90393142178499, -87.63660775555267],\n                {}\n            ).addTo(map_d75431e01c6d64f956d3f8b74689e5dd);\n        \n    \n            var marker_e0a3f12c9ac04ade5b306ff78620a528 = L.marker(\n                [41.81634394084193, -87.64256827550598],\n                {}\n            ).addTo(map_d75431e01c6d64f956d3f8b74689e5dd);\n        \n    \n            var marker_fe455261a37b0f84776be5021061200a = L.marker(\n                [41.8327976771251, -87.64629980794813],\n                {}\n            ).addTo(map_d75431e01c6d64f956d3f8b74689e5dd);\n        \n    \n            var marker_ec5e66805e0294cc2c3fc5efb0896519 = L.marker(\n                [41.88108555559726, -87.67923504553734],\n                {}\n            ).addTo(map_d75431e01c6d64f956d3f8b74689e5dd);\n        \n    \n            var marker_9594249beb09ecc646197558f66597cd = L.marker(\n                [41.93883597361448, -87.75467117455794],\n                {}\n            ).addTo(map_d75431e01c6d64f956d3f8b74689e5dd);\n        \n    \n            var marker_1fe186b1b09f9e3a834c795a1d1d793c = L.marker(\n                [41.7510184591363, -87.61495065361933],\n                {}\n            ).addTo(map_d75431e01c6d64f956d3f8b74689e5dd);\n        \n    \n            var marker_f51540002b844d7bd0e663bee053cfd2 = L.marker(\n                [41.76239541819689, -87.60051216643727],\n                {}\n            ).addTo(map_d75431e01c6d64f956d3f8b74689e5dd);\n        \n    \n            var marker_903087711df9dc10f305a774818ee5a4 = L.marker(\n                [41.74928543110801, -87.72440869132882],\n                {}\n            ).addTo(map_d75431e01c6d64f956d3f8b74689e5dd);\n        \n    \n            var marker_fddf7fc1e3d372f9e36effd11604da0a = L.marker(\n                [41.65719847558056, -87.59883829075173],\n                {}\n            ).addTo(map_d75431e01c6d64f956d3f8b74689e5dd);\n        \n    \n            var marker_3309585818fe93333f668adac245980f = L.marker(\n                [41.808384423666354, -87.67756963874196],\n                {}\n            ).addTo(map_d75431e01c6d64f956d3f8b74689e5dd);\n        \n    \n            var marker_45006c6a69981ff5a434152a1182d036 = L.marker(\n                [42.00682227244734, -87.67330813329413],\n                {}\n            ).addTo(map_d75431e01c6d64f956d3f8b74689e5dd);\n        \n    \n            var marker_60bde199d87ca4b828699d12aea701ed = L.marker(\n                [41.792915800399726, -87.78013459023622],\n                {}\n            ).addTo(map_d75431e01c6d64f956d3f8b74689e5dd);\n        \n    \n            var marker_ac74ea3889e3cd6870b1a28cac3fed5a = L.marker(\n                [41.83175130060517, -87.61747228078738],\n                {}\n            ).addTo(map_d75431e01c6d64f956d3f8b74689e5dd);\n        \n    \n            var marker_f8c268d9def752624d34acc53faa9228 = L.marker(\n                [41.897484072390675, -87.62337776811282],\n                {}\n            ).addTo(map_d75431e01c6d64f956d3f8b74689e5dd);\n        \n    \n            var marker_2c28438be44866a0a52a487c75edeef7 = L.marker(\n                [41.894726658545295, -87.7063841773407],\n                {}\n            ).addTo(map_d75431e01c6d64f956d3f8b74689e5dd);\n        \n    \n            var marker_26ce0c55f326e9e0473898ac2959a306 = L.marker(\n                [41.910332307504966, -87.70551941016132],\n                {}\n            ).addTo(map_d75431e01c6d64f956d3f8b74689e5dd);\n        \n    \n            var marker_fa3d40c396c1f31668f42dfff59e5bc6 = L.marker(\n                [41.962966859427524, -87.68469465366664],\n                {}\n            ).addTo(map_d75431e01c6d64f956d3f8b74689e5dd);\n        \n    \n            var marker_c833cf5a18b720dbe639e3db45f712f1 = L.marker(\n                [41.80549277198318, -87.58923748614112],\n                {}\n            ).addTo(map_d75431e01c6d64f956d3f8b74689e5dd);\n        \n    \n            var marker_689d80d03e19700cff91478f85d2ee4d = L.marker(\n                [41.909444834238485, -87.76898326931509],\n                {}\n            ).addTo(map_d75431e01c6d64f956d3f8b74689e5dd);\n        \n    \n            var marker_7485b712680371fcd1b924b6862189a7 = L.marker(\n                [41.89594730478282, -87.66829305460979],\n                {}\n            ).addTo(map_d75431e01c6d64f956d3f8b74689e5dd);\n        \n    \n            var marker_9acdb8eec0ca384baeafc75d04012787 = L.marker(\n                [41.98369797603738, -87.69631576617253],\n                {}\n            ).addTo(map_d75431e01c6d64f956d3f8b74689e5dd);\n        \n    \n            var marker_61b42ea49a7818d04c1240970b841b83 = L.marker(\n                [41.92540663614013, -87.65806218385674],\n                {}\n            ).addTo(map_d75431e01c6d64f956d3f8b74689e5dd);\n        \n    \n            var marker_8ed501c0a2550fb18c46e1ade4fdc2d9 = L.marker(\n                [41.77928203936906, -87.66843344429459],\n                {}\n            ).addTo(map_d75431e01c6d64f956d3f8b74689e5dd);\n        \n    \n            var marker_33c11097b7317f1869d9c60335601e4a = L.marker(\n                [41.80110836194246, -87.72648385568911],\n                {}\n            ).addTo(map_d75431e01c6d64f956d3f8b74689e5dd);\n        \n    \n            var marker_90fa85f1844c35d94dbe3694a57b604f = L.marker(\n                [41.65927659861025, -87.54881978393514],\n                {}\n            ).addTo(map_d75431e01c6d64f956d3f8b74689e5dd);\n        \n    \n            var marker_bb40bba4767c55567ec8624e24e5f6c0 = L.marker(\n                [41.95413885986087, -87.7200155607629],\n                {}\n            ).addTo(map_d75431e01c6d64f956d3f8b74689e5dd);\n        \n    \n            var marker_fb66a58adc193416d460c6760bb99377 = L.marker(\n                [41.857601233304614, -87.66116376475367],\n                {}\n            ).addTo(map_d75431e01c6d64f956d3f8b74689e5dd);\n        \n    \n            var marker_da8c2b086d4a5d290ae681c40fbf628d = L.marker(\n                [41.76254141905116, -87.56387694448408],\n                {}\n            ).addTo(map_d75431e01c6d64f956d3f8b74689e5dd);\n        \n    \n            var marker_d64b085c5fbe464166fbb7efacb1f418 = L.marker(\n                [41.85412074173438, -87.63195792246246],\n                {}\n            ).addTo(map_d75431e01c6d64f956d3f8b74689e5dd);\n        \n    \n            var marker_9d15741d1532cd7294a01ea79142ca31 = L.marker(\n                [41.86441239309047, -87.71017465670012],\n                {}\n            ).addTo(map_d75431e01c6d64f956d3f8b74689e5dd);\n        \n    \n            var marker_592c27d441987a44322f39ab037f84fc = L.marker(\n                [41.924860376546214, -87.7035190503226],\n                {}\n            ).addTo(map_d75431e01c6d64f956d3f8b74689e5dd);\n        \n    \n            var marker_70cab3abda3c6626db774a35d1372a73 = L.marker(\n                [41.99199760467718, -87.79820642998901],\n                {}\n            ).addTo(map_d75431e01c6d64f956d3f8b74689e5dd);\n        \n    \n            var marker_ba88342fe52360e999bcf0e30548af42 = L.marker(\n                [41.9210332601157, -87.79791005523576],\n                {}\n            ).addTo(map_d75431e01c6d64f956d3f8b74689e5dd);\n        \n    \n            var marker_b784106051f214465369a45e5566332f = L.marker(\n                [41.9366521886413, -87.78602401236114],\n                {}\n            ).addTo(map_d75431e01c6d64f956d3f8b74689e5dd);\n        \n    \n            var marker_5da2eed21a4d958cd16ef6efbdd69340 = L.marker(\n                [41.91235487836141, -87.68029967133904],\n                {}\n            ).addTo(map_d75431e01c6d64f956d3f8b74689e5dd);\n        \n    \n            var marker_28d745c7507520d4c236c1be7cfaecae = L.marker(\n                [41.90989766464456, -87.73376822625004],\n                {}\n            ).addTo(map_d75431e01c6d64f956d3f8b74689e5dd);\n        \n    \n            var marker_a362b5feefa411fa05cdce1fd75f646a = L.marker(\n                [41.83030074817219, -87.67349098124289],\n                {}\n            ).addTo(map_d75431e01c6d64f956d3f8b74689e5dd);\n        \n    \n            var marker_b9159a74bdc298a6feb4db22c57873e7 = L.marker(\n                [41.67790647382097, -87.6431683153105],\n                {}\n            ).addTo(map_d75431e01c6d64f956d3f8b74689e5dd);\n        \n    \n            var marker_96aa06a57b146f6c39880fcadab6641d = L.marker(\n                [41.72118978926962, -87.67214620967468],\n                {}\n            ).addTo(map_d75431e01c6d64f956d3f8b74689e5dd);\n        \n    \n            var marker_f28253bfbe805c5eb72d47f2bb63926d = L.marker(\n                [41.87934542742433, -87.72547641315548],\n                {}\n            ).addTo(map_d75431e01c6d64f956d3f8b74689e5dd);\n        \n    \n            var marker_0f0c23dbc497d10b927bb09baefe6ac0 = L.marker(\n                [41.842086096760674, -87.72463965526215],\n                {}\n            ).addTo(map_d75431e01c6d64f956d3f8b74689e5dd);\n        \n    \n            var marker_54ba627d56318fe90a5500dc6e9ffd79 = L.marker(\n                [41.88917312206642, -87.7658203582574],\n                {}\n            ).addTo(map_d75431e01c6d64f956d3f8b74689e5dd);\n        \n    \n            var marker_7b95008a9e09346f616375eb52b23adf = L.marker(\n                [41.73795704970435, -87.70221598421591],\n                {}\n            ).addTo(map_d75431e01c6d64f956d3f8b74689e5dd);\n        \n    \n            var marker_4f9ebbc25e049b54ee10d2e7e318f6e5 = L.marker(\n                [41.96750826032374, -87.76176748220928],\n                {}\n            ).addTo(map_d75431e01c6d64f956d3f8b74689e5dd);\n        \n    \n            var marker_d59a08be8523c37dcf4b780b727bd820 = L.marker(\n                [41.968242773953044, -87.737968778247],\n                {}\n            ).addTo(map_d75431e01c6d64f956d3f8b74689e5dd);\n        \n    \n            var marker_cb00c478efb14185bb120675a22aaa2d = L.marker(\n                [41.73029771500594, -87.54972658730712],\n                {}\n            ).addTo(map_d75431e01c6d64f956d3f8b74689e5dd);\n        \n    \n            var marker_003a33adbb0ef4a69b029670c52cd0d3 = L.marker(\n                [41.776652677565934, -87.78218757614671],\n                {}\n            ).addTo(map_d75431e01c6d64f956d3f8b74689e5dd);\n        \n    \n            var marker_ce036c85059c30d515aa1bae00320edc = L.marker(\n                [41.940131637508564, -87.64602857926714],\n                {}\n            ).addTo(map_d75431e01c6d64f956d3f8b74689e5dd);\n        \n    \n            var marker_22928c3e06ea5fc8045b9138dcafc428 = L.marker(\n                [41.95832305807637, -87.65424744448335],\n                {}\n            ).addTo(map_d75431e01c6d64f956d3f8b74689e5dd);\n        \n    \n            var marker_71472edae1e06faca69082dc0dfe0816 = L.marker(\n                [41.7819767986214, -87.7033680880769],\n                {}\n            ).addTo(map_d75431e01c6d64f956d3f8b74689e5dd);\n        \n    \n            var marker_10d667e04779ce20a6273e8bf4616ac3 = L.marker(\n                [41.87686252958797, -87.62779697013237],\n                {}\n            ).addTo(map_d75431e01c6d64f956d3f8b74689e5dd);\n        \n    \n            var marker_1824643ec231c3f0b587fdbf25124353 = L.marker(\n                [41.81516027827089, -87.70273371160454],\n                {}\n            ).addTo(map_d75431e01c6d64f956d3f8b74689e5dd);\n        \n    \n            var marker_23d8bf389794608358ec8207d5bb3966 = L.marker(\n                [41.8950961032908, -87.74806072822989],\n                {}\n            ).addTo(map_d75431e01c6d64f956d3f8b74689e5dd);\n        \n    \n            var marker_08140066ca9f1bdbcd5984034782f7c5 = L.marker(\n                [41.84959155873184, -87.70504118331108],\n                {}\n            ).addTo(map_d75431e01c6d64f956d3f8b74689e5dd);\n        \n    \n            var marker_841d526241c2faa7637a9d78aa04c08c = L.marker(\n                [41.94046531149621, -87.67102536129381],\n                {}\n            ).addTo(map_d75431e01c6d64f956d3f8b74689e5dd);\n        \n    \n            var marker_a37c2554a9dbda0a93ef4718e90e0901 = L.marker(\n                [41.79357525220078, -87.69413004003073],\n                {}\n            ).addTo(map_d75431e01c6d64f956d3f8b74689e5dd);\n        \n    \n            var marker_566c3f2ff6ae346f2a613fc2d62fce80 = L.marker(\n                [42.00507612272344, -87.69021903022175],\n                {}\n            ).addTo(map_d75431e01c6d64f956d3f8b74689e5dd);\n        \n    \n            var marker_a0e427847c66d3c98dea8c1f6ddf1ceb = L.marker(\n                [41.94319949471892, -87.81395164414246],\n                {}\n            ).addTo(map_d75431e01c6d64f956d3f8b74689e5dd);\n        \n    \n            var marker_9066941541be18e6d1a21aa871a551ff = L.marker(\n                [41.97155143669217, -87.66095347964183],\n                {}\n            ).addTo(map_d75431e01c6d64f956d3f8b74689e5dd);\n        \n    \n            var marker_77bdb879914b64357271387061c2f4b7 = L.marker(\n                [41.8837105009142, -87.6545650515331],\n                {}\n            ).addTo(map_d75431e01c6d64f956d3f8b74689e5dd);\n        \n    \n            var marker_7fd25f5ae2b5f2e988604a61edab288d = L.marker(\n                [41.69436481773882, -87.6181414059763],\n                {}\n            ).addTo(map_d75431e01c6d64f956d3f8b74689e5dd);\n        \n    \n            var marker_423e80f6cccf8fa4b7cb6a0ccc64ba90 = L.marker(\n                [41.71340053892868, -87.56573413765888],\n                {}\n            ).addTo(map_d75431e01c6d64f956d3f8b74689e5dd);\n        \n    \n            var marker_cbf9afa85cfa3155800258818f348fb9 = L.marker(\n                [41.807377846345496, -87.62263720177272],\n                {}\n            ).addTo(map_d75431e01c6d64f956d3f8b74689e5dd);\n        \n    \n            var marker_8904d8ae17c474e1c0ffd7914842fa86 = L.marker(\n                [41.693015814018004, -87.70102477600602],\n                {}\n            ).addTo(map_d75431e01c6d64f956d3f8b74689e5dd);\n        \n    \n            var marker_45165d402bf2bcefb203455ab4b1ab13 = L.marker(\n                [41.78028267185317, -87.60712228979007],\n                {}\n            ).addTo(map_d75431e01c6d64f956d3f8b74689e5dd);\n        \n    \n            var marker_45f596ba7b2acc010d4fce025c30dbdd = L.marker(\n                [41.95312267684315, -87.77928489355646],\n                {}\n            ).addTo(map_d75431e01c6d64f956d3f8b74689e5dd);\n        \n    \n            var marker_955650130d1f6402013d800484244942 = L.marker(\n                [41.720694885749005, -87.64304817213312],\n                {}\n            ).addTo(map_d75431e01c6d64f956d3f8b74689e5dd);\n        \n    \n            var marker_93c5bd4d534c711e9e0b0df4fbb427ec = L.marker(\n                [41.757343880012456, -87.6540643783153],\n                {}\n            ).addTo(map_d75431e01c6d64f956d3f8b74689e5dd);\n        \n    \n            var marker_97cd2025b2f30f1c048c66990fa9e303 = L.marker(\n                [41.82824306445502, -87.6263495444489],\n                {}\n            ).addTo(map_d75431e01c6d64f956d3f8b74689e5dd);\n        \n    \n            var marker_7216b07eeeb07d54bd5c5ae3a26e6af3 = L.marker(\n                [41.70283443594318, -87.61428978448026],\n                {}\n            ).addTo(map_d75431e01c6d64f956d3f8b74689e5dd);\n        \n    \n            var marker_ab2975aaee69a23247ef6be61de08332 = L.marker(\n                [41.79476901885989, -87.65502837616037],\n                {}\n            ).addTo(map_d75431e01c6d64f956d3f8b74689e5dd);\n        \n&lt;/script&gt;\" style=\"position:absolute;width:100%;height:100%;left:0;top:0;border:none !important;\" allowfullscreen webkitallowfullscreen mozallowfullscreen></iframe></div></div>",
                        "text/plain": "<folium.folium.Map at 0x7f738eb19820>"
                    },
                    "execution_count": 10,
                    "metadata": {},
                    "output_type": "execute_result"
                }
            ],
            "source": "import folium\nmap_osm = folium.Map(location=[41.878, -87.629], zoom_start=11)\nfor library in libraries:\n    lt = library.y\n    lg = library.x\n    folium.Marker([lt, lg]).add_to(map_osm)\nmap_osm"
        },
        {
            "cell_type": "markdown",
            "metadata": {},
            "source": "After running the above code, the data is displayed but it is impossible to determine where to ideally open the coffee shops by just looking at the map.\n\nLet's set up DOcplex to write and solve an optimization model that will help us determine where to locate the coffee shops in an optimal way."
        },
        {
            "cell_type": "markdown",
            "metadata": {},
            "source": "### Step 4: Set up the prescriptive model"
        },
        {
            "cell_type": "code",
            "execution_count": 11,
            "metadata": {},
            "outputs": [
                {
                    "name": "stdout",
                    "output_type": "stream",
                    "text": "* system is: Linux 64bit\n* Python version 3.9.7, located at: /opt/conda/envs/Python-3.9/bin/python\n* docplex is present, version is 2.22.213\n* CPLEX library is present, version is 20.1.0.1, located at: /opt/conda/envs/Python-3.9/lib/python3.9/site-packages\n* pandas is present, version is 1.3.4\n"
                }
            ],
            "source": "from docplex.mp.environment import Environment\nenv = Environment()\nenv.print_information()"
        },
        {
            "cell_type": "markdown",
            "metadata": {},
            "source": "#### Create the DOcplex model\nThe model contains all the business constraints and defines the objective."
        },
        {
            "cell_type": "code",
            "execution_count": 12,
            "metadata": {},
            "outputs": [],
            "source": "from docplex.mp.model import Model\n\nmdl = Model(\"coffee shops\")"
        },
        {
            "cell_type": "markdown",
            "metadata": {},
            "source": "#### Define the decision variables"
        },
        {
            "cell_type": "code",
            "execution_count": 13,
            "metadata": {},
            "outputs": [],
            "source": "BIGNUM = 999999999\n\n# Ensure unique points\nlibraries = set(libraries)\n# For simplicity, let's consider that coffee shops candidate locations are the same as libraries locations.\n# That is: any library location can also be selected as a coffee shop.\ncoffeeshop_locations = libraries\n\n# Decision vars\n# Binary vars indicating which coffee shop locations will be actually selected\ncoffeeshop_vars = mdl.binary_var_dict(coffeeshop_locations, name=\"is_coffeeshop\")\n#\n# Binary vars representing the \"assigned\" libraries for each coffee shop\nlink_vars = mdl.binary_var_matrix(coffeeshop_locations, libraries, \"link\")"
        },
        {
            "cell_type": "markdown",
            "metadata": {},
            "source": "#### Express the business constraints\nFirst constraint: if the distance is suspect, it needs to be excluded from the problem."
        },
        {
            "cell_type": "code",
            "execution_count": 14,
            "metadata": {},
            "outputs": [],
            "source": "for c_loc in coffeeshop_locations:\n    for b in libraries:\n        if get_distance(c_loc, b) >= BIGNUM:\n            mdl.add_constraint(link_vars[c_loc, b] == 0, \"ct_forbid_{0!s}_{1!s}\".format(c_loc, b))"
        },
        {
            "cell_type": "markdown",
            "metadata": {},
            "source": "Second constraint: each library must be linked to a coffee shop that is open."
        },
        {
            "cell_type": "code",
            "execution_count": 15,
            "metadata": {},
            "outputs": [
                {
                    "name": "stdout",
                    "output_type": "stream",
                    "text": "Model: coffee shops\n - number of variables: 6642\n   - binary=6642, integer=0, continuous=0\n - number of constraints: 6561\n   - linear=6561\n - parameters: defaults\n - objective: none\n - problem type is: MILP\n"
                }
            ],
            "source": "mdl.add_constraints(link_vars[c_loc, b] <= coffeeshop_vars[c_loc]\n                   for b in libraries\n                   for c_loc in coffeeshop_locations)\nmdl.print_information()"
        },
        {
            "cell_type": "markdown",
            "metadata": {},
            "source": "Third constraint: each library is linked to exactly one coffee shop."
        },
        {
            "cell_type": "code",
            "execution_count": 16,
            "metadata": {},
            "outputs": [
                {
                    "name": "stdout",
                    "output_type": "stream",
                    "text": "Model: coffee shops\n - number of variables: 6642\n   - binary=6642, integer=0, continuous=0\n - number of constraints: 6642\n   - linear=6642\n - parameters: defaults\n - objective: none\n - problem type is: MILP\n"
                }
            ],
            "source": "mdl.add_constraints(mdl.sum(link_vars[c_loc, b] for c_loc in coffeeshop_locations) == 1\n                   for b in libraries)\nmdl.print_information()"
        },
        {
            "cell_type": "markdown",
            "metadata": {},
            "source": "Fourth constraint: there is a fixed number of coffee shops to open."
        },
        {
            "cell_type": "code",
            "execution_count": 17,
            "metadata": {},
            "outputs": [
                {
                    "name": "stdout",
                    "output_type": "stream",
                    "text": "Model: coffee shops\n - number of variables: 6642\n   - binary=6642, integer=0, continuous=0\n - number of constraints: 6643\n   - linear=6643\n - parameters: defaults\n - objective: none\n - problem type is: MILP\n"
                }
            ],
            "source": "# Total nb of open coffee shops\nmdl.add_constraint(mdl.sum(coffeeshop_vars[c_loc] for c_loc in coffeeshop_locations) == nb_shops)\n\n# Print model information\nmdl.print_information()"
        },
        {
            "cell_type": "markdown",
            "metadata": {},
            "source": "#### Express the objective\n\nThe objective is to minimize the total distance from libraries to coffee shops so that a book reader always gets to our coffee shop easily.\n"
        },
        {
            "cell_type": "code",
            "execution_count": 18,
            "metadata": {},
            "outputs": [],
            "source": "# Minimize total distance from points to hubs\ntotal_distance = mdl.sum(link_vars[c_loc, b] * get_distance(c_loc, b) for c_loc in coffeeshop_locations for b in libraries)\nmdl.minimize(total_distance)"
        },
        {
            "cell_type": "markdown",
            "metadata": {},
            "source": "#### Solve with the Decision Optimization solve service\n\nSolve the model."
        },
        {
            "cell_type": "code",
            "execution_count": 19,
            "metadata": {},
            "outputs": [
                {
                    "name": "stdout",
                    "output_type": "stream",
                    "text": "# coffee shops locations = 81\n# coffee shops           = 5\n"
                },
                {
                    "ename": "DOcplexLimitsExceeded",
                    "evalue": "**** Promotional version. Problem size limits (1000 vars, 1000 consts) exceeded, model has 6642 vars, 6643 consts, CPLEX code=1016",
                    "output_type": "error",
                    "traceback": [
                        "\u001b[0;31m---------------------------------------------------------------------------\u001b[0m",
                        "\u001b[0;31mCplexSolverError\u001b[0m                          Traceback (most recent call last)",
                        "\u001b[0;32m/opt/conda/envs/Python-3.9/lib/python3.9/site-packages/docplex/mp/cplex_engine.py\u001b[0m in \u001b[0;36msolve\u001b[0;34m(self, mdl, parameters, **kwargs)\u001b[0m\n\u001b[1;32m   1967\u001b[0m             \u001b[0;32melse\u001b[0m\u001b[0;34m:\u001b[0m\u001b[0;34m\u001b[0m\u001b[0;34m\u001b[0m\u001b[0m\n\u001b[0;32m-> 1968\u001b[0;31m                 \u001b[0mcpx\u001b[0m\u001b[0;34m.\u001b[0m\u001b[0msolve\u001b[0m\u001b[0;34m(\u001b[0m\u001b[0;34m)\u001b[0m\u001b[0;34m\u001b[0m\u001b[0;34m\u001b[0m\u001b[0m\n\u001b[0m\u001b[1;32m   1969\u001b[0m \u001b[0;34m\u001b[0m\u001b[0m\n",
                        "\u001b[0;32m/opt/conda/envs/Python-3.9/lib/python3.9/site-packages/cplex/__init__.py\u001b[0m in \u001b[0;36msolve\u001b[0;34m(self, paramsets)\u001b[0m\n\u001b[1;32m   1368\u001b[0m             \u001b[0;32melse\u001b[0m\u001b[0;34m:\u001b[0m\u001b[0;34m\u001b[0m\u001b[0;34m\u001b[0m\u001b[0m\n\u001b[0;32m-> 1369\u001b[0;31m                 \u001b[0m_proc\u001b[0m\u001b[0;34m.\u001b[0m\u001b[0mmipopt\u001b[0m\u001b[0;34m(\u001b[0m\u001b[0mself\u001b[0m\u001b[0;34m.\u001b[0m\u001b[0m_env\u001b[0m\u001b[0;34m.\u001b[0m\u001b[0m_e\u001b[0m\u001b[0;34m,\u001b[0m \u001b[0mself\u001b[0m\u001b[0;34m.\u001b[0m\u001b[0m_lp\u001b[0m\u001b[0;34m)\u001b[0m\u001b[0;34m\u001b[0m\u001b[0;34m\u001b[0m\u001b[0m\n\u001b[0m\u001b[1;32m   1370\u001b[0m         \u001b[0;32melif\u001b[0m \u001b[0mself\u001b[0m\u001b[0;34m.\u001b[0m\u001b[0mquadratic_constraints\u001b[0m\u001b[0;34m.\u001b[0m\u001b[0mget_num\u001b[0m\u001b[0;34m(\u001b[0m\u001b[0;34m)\u001b[0m \u001b[0;34m>\u001b[0m \u001b[0;36m0\u001b[0m\u001b[0;34m:\u001b[0m\u001b[0;34m\u001b[0m\u001b[0;34m\u001b[0m\u001b[0m\n",
                        "\u001b[0;32m/opt/conda/envs/Python-3.9/lib/python3.9/site-packages/cplex/_internal/_procedural.py\u001b[0m in \u001b[0;36mmipopt\u001b[0;34m(env, lp)\u001b[0m\n\u001b[1;32m    707\u001b[0m         \u001b[0mstatus\u001b[0m \u001b[0;34m=\u001b[0m \u001b[0mCR\u001b[0m\u001b[0;34m.\u001b[0m\u001b[0mCPXXmipopt\u001b[0m\u001b[0;34m(\u001b[0m\u001b[0menv\u001b[0m\u001b[0;34m,\u001b[0m \u001b[0mlp\u001b[0m\u001b[0;34m)\u001b[0m\u001b[0;34m\u001b[0m\u001b[0;34m\u001b[0m\u001b[0m\n\u001b[0;32m--> 708\u001b[0;31m     \u001b[0mcheck_status\u001b[0m\u001b[0;34m(\u001b[0m\u001b[0menv\u001b[0m\u001b[0;34m,\u001b[0m \u001b[0mstatus\u001b[0m\u001b[0;34m)\u001b[0m\u001b[0;34m\u001b[0m\u001b[0;34m\u001b[0m\u001b[0m\n\u001b[0m\u001b[1;32m    709\u001b[0m \u001b[0;34m\u001b[0m\u001b[0m\n",
                        "\u001b[0;32m/opt/conda/envs/Python-3.9/lib/python3.9/site-packages/cplex/_internal/_procedural.py\u001b[0m in \u001b[0;36m__call__\u001b[0;34m(self, env, status, from_cb)\u001b[0m\n\u001b[1;32m    248\u001b[0m                     \u001b[0merror_string\u001b[0m \u001b[0;34m=\u001b[0m \u001b[0mgeterrorstring\u001b[0m\u001b[0;34m(\u001b[0m\u001b[0menv\u001b[0m\u001b[0;34m,\u001b[0m \u001b[0mstatus\u001b[0m\u001b[0;34m)\u001b[0m\u001b[0;34m\u001b[0m\u001b[0;34m\u001b[0m\u001b[0m\n\u001b[0;32m--> 249\u001b[0;31m             \u001b[0;32mraise\u001b[0m \u001b[0mCplexSolverError\u001b[0m\u001b[0;34m(\u001b[0m\u001b[0merror_string\u001b[0m\u001b[0;34m,\u001b[0m \u001b[0menv\u001b[0m\u001b[0;34m,\u001b[0m \u001b[0mstatus\u001b[0m\u001b[0;34m)\u001b[0m\u001b[0;34m\u001b[0m\u001b[0;34m\u001b[0m\u001b[0m\n\u001b[0m\u001b[1;32m    250\u001b[0m \u001b[0;34m\u001b[0m\u001b[0m\n",
                        "\u001b[0;31mCplexSolverError\u001b[0m: CPLEX Error  1016: Community Edition. Problem size limits exceeded. Purchase at http://ibm.biz/error1016.",
                        "\nDuring handling of the above exception, another exception occurred:\n",
                        "\u001b[0;31mDOcplexLimitsExceeded\u001b[0m                     Traceback (most recent call last)",
                        "\u001b[0;32m/tmp/wsuser/ipykernel_154/2923694161.py\u001b[0m in \u001b[0;36m<module>\u001b[0;34m\u001b[0m\n\u001b[1;32m      2\u001b[0m \u001b[0mprint\u001b[0m\u001b[0;34m(\u001b[0m\u001b[0;34m\"# coffee shops           = %d\"\u001b[0m \u001b[0;34m%\u001b[0m \u001b[0mnb_shops\u001b[0m\u001b[0;34m)\u001b[0m\u001b[0;34m\u001b[0m\u001b[0;34m\u001b[0m\u001b[0m\n\u001b[1;32m      3\u001b[0m \u001b[0;34m\u001b[0m\u001b[0m\n\u001b[0;32m----> 4\u001b[0;31m \u001b[0;32massert\u001b[0m \u001b[0mmdl\u001b[0m\u001b[0;34m.\u001b[0m\u001b[0msolve\u001b[0m\u001b[0;34m(\u001b[0m\u001b[0;34m)\u001b[0m\u001b[0;34m,\u001b[0m \u001b[0;34m\"!!! Solve of the model fails\"\u001b[0m\u001b[0;34m\u001b[0m\u001b[0;34m\u001b[0m\u001b[0m\n\u001b[0m",
                        "\u001b[0;32m/opt/conda/envs/Python-3.9/lib/python3.9/site-packages/docplex/mp/model.py\u001b[0m in \u001b[0;36msolve\u001b[0;34m(self, **kwargs)\u001b[0m\n\u001b[1;32m   4825\u001b[0m                 \u001b[0;31m# take arg clean flag or this model's\u001b[0m\u001b[0;34m\u001b[0m\u001b[0;34m\u001b[0m\u001b[0m\n\u001b[1;32m   4826\u001b[0m                 \u001b[0mused_clean_before_solve\u001b[0m \u001b[0;34m=\u001b[0m \u001b[0mkwargs\u001b[0m\u001b[0;34m.\u001b[0m\u001b[0mget\u001b[0m\u001b[0;34m(\u001b[0m\u001b[0;34m'clean_before_solve'\u001b[0m\u001b[0;34m,\u001b[0m \u001b[0mself\u001b[0m\u001b[0;34m.\u001b[0m\u001b[0mclean_before_solve\u001b[0m\u001b[0;34m)\u001b[0m\u001b[0;34m\u001b[0m\u001b[0;34m\u001b[0m\u001b[0m\n\u001b[0;32m-> 4827\u001b[0;31m                 \u001b[0;32mreturn\u001b[0m \u001b[0mself\u001b[0m\u001b[0;34m.\u001b[0m\u001b[0m_solve_local\u001b[0m\u001b[0;34m(\u001b[0m\u001b[0mcontext\u001b[0m\u001b[0;34m,\u001b[0m \u001b[0mused_clean_before_solve\u001b[0m\u001b[0;34m,\u001b[0m \u001b[0mlex_timelimits\u001b[0m\u001b[0;34m,\u001b[0m \u001b[0mlex_mipgaps\u001b[0m\u001b[0;34m)\u001b[0m\u001b[0;34m\u001b[0m\u001b[0;34m\u001b[0m\u001b[0m\n\u001b[0m\u001b[1;32m   4828\u001b[0m             \u001b[0;32melse\u001b[0m\u001b[0;34m:\u001b[0m\u001b[0;34m\u001b[0m\u001b[0;34m\u001b[0m\u001b[0m\n\u001b[1;32m   4829\u001b[0m                 \u001b[0;32mreturn\u001b[0m \u001b[0mself\u001b[0m\u001b[0;34m.\u001b[0m\u001b[0mfatal\u001b[0m\u001b[0;34m(\u001b[0m\u001b[0;34m\"Cannot solve model: no CPLEX runtime found.\"\u001b[0m\u001b[0;34m)\u001b[0m\u001b[0;34m\u001b[0m\u001b[0;34m\u001b[0m\u001b[0m\n",
                        "\u001b[0;32m/opt/conda/envs/Python-3.9/lib/python3.9/site-packages/docplex/mp/model.py\u001b[0m in \u001b[0;36m_solve_local\u001b[0;34m(self, context, clean_before_solve, lex_timelimits, lex_mipgaps)\u001b[0m\n\u001b[1;32m   4874\u001b[0m         \u001b[0;32mexcept\u001b[0m \u001b[0mDOcplexException\u001b[0m \u001b[0;32mas\u001b[0m \u001b[0mdocpx_e\u001b[0m\u001b[0;34m:\u001b[0m  \u001b[0;31m# pragma: no cover\u001b[0m\u001b[0;34m\u001b[0m\u001b[0;34m\u001b[0m\u001b[0m\n\u001b[1;32m   4875\u001b[0m             \u001b[0mnew_solution\u001b[0m \u001b[0;34m=\u001b[0m \u001b[0;32mNone\u001b[0m\u001b[0;34m\u001b[0m\u001b[0;34m\u001b[0m\u001b[0m\n\u001b[0;32m-> 4876\u001b[0;31m             \u001b[0;32mraise\u001b[0m \u001b[0mdocpx_e\u001b[0m\u001b[0;34m\u001b[0m\u001b[0;34m\u001b[0m\u001b[0m\n\u001b[0m\u001b[1;32m   4877\u001b[0m \u001b[0;34m\u001b[0m\u001b[0m\n\u001b[1;32m   4878\u001b[0m         \u001b[0;32mexcept\u001b[0m \u001b[0mException\u001b[0m \u001b[0;32mas\u001b[0m \u001b[0me\u001b[0m\u001b[0;34m:\u001b[0m\u001b[0;34m\u001b[0m\u001b[0;34m\u001b[0m\u001b[0m\n",
                        "\u001b[0;32m/opt/conda/envs/Python-3.9/lib/python3.9/site-packages/docplex/mp/model.py\u001b[0m in \u001b[0;36m_solve_local\u001b[0;34m(self, context, clean_before_solve, lex_timelimits, lex_mipgaps)\u001b[0m\n\u001b[1;32m   4862\u001b[0m             \u001b[0mself\u001b[0m\u001b[0;34m.\u001b[0m\u001b[0m_apply_parameters_to_engine\u001b[0m\u001b[0;34m(\u001b[0m\u001b[0mused_parameters\u001b[0m\u001b[0;34m)\u001b[0m\u001b[0;34m\u001b[0m\u001b[0;34m\u001b[0m\u001b[0m\n\u001b[1;32m   4863\u001b[0m \u001b[0;34m\u001b[0m\u001b[0m\n\u001b[0;32m-> 4864\u001b[0;31m             new_solution = self_engine.solve(self,\n\u001b[0m\u001b[1;32m   4865\u001b[0m                                              \u001b[0mparameters\u001b[0m\u001b[0;34m=\u001b[0m\u001b[0mused_parameters\u001b[0m\u001b[0;34m,\u001b[0m\u001b[0;34m\u001b[0m\u001b[0;34m\u001b[0m\u001b[0m\n\u001b[1;32m   4866\u001b[0m                                              \u001b[0mclean_before_solve\u001b[0m\u001b[0;34m=\u001b[0m\u001b[0mclean_before_solve\u001b[0m\u001b[0;34m,\u001b[0m\u001b[0;34m\u001b[0m\u001b[0;34m\u001b[0m\u001b[0m\n",
                        "\u001b[0;32m/opt/conda/envs/Python-3.9/lib/python3.9/site-packages/docplex/mp/cplex_engine.py\u001b[0m in \u001b[0;36msolve\u001b[0;34m(self, mdl, parameters, **kwargs)\u001b[0m\n\u001b[1;32m   2002\u001b[0m                 \u001b[0mcpx_status\u001b[0m \u001b[0;34m=\u001b[0m \u001b[0;36m1016\u001b[0m\u001b[0;34m\u001b[0m\u001b[0;34m\u001b[0m\u001b[0m\n\u001b[1;32m   2003\u001b[0m                 \u001b[0mcpx_status_string\u001b[0m \u001b[0;34m=\u001b[0m \u001b[0;34m\"Promotional version. Problem size limits exceeded., CPLEX code=1016.\"\u001b[0m\u001b[0;34m\u001b[0m\u001b[0;34m\u001b[0m\u001b[0m\n\u001b[0;32m-> 2004\u001b[0;31m                 \u001b[0mself\u001b[0m\u001b[0;34m.\u001b[0m\u001b[0m_model\u001b[0m\u001b[0;34m.\u001b[0m\u001b[0mfatal_ce_limits\u001b[0m\u001b[0;34m(\u001b[0m\u001b[0;34m)\u001b[0m\u001b[0;34m\u001b[0m\u001b[0;34m\u001b[0m\u001b[0m\n\u001b[0m\u001b[1;32m   2005\u001b[0m \u001b[0;34m\u001b[0m\u001b[0m\n\u001b[1;32m   2006\u001b[0m             \u001b[0;32melif\u001b[0m \u001b[0mself\u001b[0m\u001b[0;34m.\u001b[0m\u001b[0mfix_multiobj_error_1300\u001b[0m \u001b[0;32mand\u001b[0m \u001b[0;36m1300\u001b[0m \u001b[0;34m==\u001b[0m \u001b[0mcpx_code\u001b[0m\u001b[0;34m:\u001b[0m\u001b[0;34m\u001b[0m\u001b[0;34m\u001b[0m\u001b[0m\n",
                        "\u001b[0;32m/opt/conda/envs/Python-3.9/lib/python3.9/site-packages/docplex/mp/model.py\u001b[0m in \u001b[0;36mfatal_ce_limits\u001b[0;34m(self, *args)\u001b[0m\n\u001b[1;32m   1088\u001b[0m         \u001b[0mnb_constraints\u001b[0m \u001b[0;34m=\u001b[0m \u001b[0mself\u001b[0m\u001b[0;34m.\u001b[0m\u001b[0mnumber_of_constraints\u001b[0m\u001b[0;34m\u001b[0m\u001b[0;34m\u001b[0m\u001b[0m\n\u001b[1;32m   1089\u001b[0m \u001b[0;34m\u001b[0m\u001b[0m\n\u001b[0;32m-> 1090\u001b[0;31m         \u001b[0mself\u001b[0m\u001b[0;34m.\u001b[0m\u001b[0m_error_handler\u001b[0m\u001b[0;34m.\u001b[0m\u001b[0mfatal_limits_exceeded\u001b[0m\u001b[0;34m(\u001b[0m\u001b[0mnb_vars\u001b[0m\u001b[0;34m,\u001b[0m \u001b[0mnb_constraints\u001b[0m\u001b[0;34m)\u001b[0m\u001b[0;34m\u001b[0m\u001b[0;34m\u001b[0m\u001b[0m\n\u001b[0m\u001b[1;32m   1091\u001b[0m \u001b[0;34m\u001b[0m\u001b[0m\n\u001b[1;32m   1092\u001b[0m     \u001b[0;32mdef\u001b[0m \u001b[0merror\u001b[0m\u001b[0;34m(\u001b[0m\u001b[0mself\u001b[0m\u001b[0;34m,\u001b[0m \u001b[0mmsg\u001b[0m\u001b[0;34m,\u001b[0m \u001b[0;34m*\u001b[0m\u001b[0margs\u001b[0m\u001b[0;34m)\u001b[0m\u001b[0;34m:\u001b[0m\u001b[0;34m\u001b[0m\u001b[0;34m\u001b[0m\u001b[0m\n",
                        "\u001b[0;32m/opt/conda/envs/Python-3.9/lib/python3.9/site-packages/docplex/mp/error_handler.py\u001b[0m in \u001b[0;36mfatal_limits_exceeded\u001b[0;34m(self, nb_vars, nb_constraints)\u001b[0m\n\u001b[1;32m    212\u001b[0m     \u001b[0;32mdef\u001b[0m \u001b[0mfatal_limits_exceeded\u001b[0m\u001b[0;34m(\u001b[0m\u001b[0mself\u001b[0m\u001b[0;34m,\u001b[0m \u001b[0mnb_vars\u001b[0m\u001b[0;34m,\u001b[0m \u001b[0mnb_constraints\u001b[0m\u001b[0;34m)\u001b[0m\u001b[0;34m:\u001b[0m\u001b[0;34m\u001b[0m\u001b[0;34m\u001b[0m\u001b[0m\n\u001b[1;32m    213\u001b[0m         \u001b[0mdocplex_error_stop_here\u001b[0m\u001b[0;34m(\u001b[0m\u001b[0;34m)\u001b[0m\u001b[0;34m\u001b[0m\u001b[0;34m\u001b[0m\u001b[0m\n\u001b[0;32m--> 214\u001b[0;31m         \u001b[0;32mraise\u001b[0m \u001b[0mDOcplexLimitsExceeded\u001b[0m\u001b[0;34m(\u001b[0m\u001b[0mnb_vars\u001b[0m\u001b[0;34m,\u001b[0m \u001b[0mnb_constraints\u001b[0m\u001b[0;34m)\u001b[0m\u001b[0;34m\u001b[0m\u001b[0;34m\u001b[0m\u001b[0m\n\u001b[0m\u001b[1;32m    215\u001b[0m \u001b[0;34m\u001b[0m\u001b[0m\n\u001b[1;32m    216\u001b[0m \u001b[0;34m\u001b[0m\u001b[0m\n",
                        "\u001b[0;31mDOcplexLimitsExceeded\u001b[0m: **** Promotional version. Problem size limits (1000 vars, 1000 consts) exceeded, model has 6642 vars, 6643 consts, CPLEX code=1016"
                    ]
                }
            ],
            "source": "print(\"# coffee shops locations = %d\" % len(coffeeshop_locations))\nprint(\"# coffee shops           = %d\" % nb_shops)\n\nassert mdl.solve(), \"!!! Solve of the model fails\""
        },
        {
            "cell_type": "markdown",
            "metadata": {
                "render": false
            },
            "source": "### Step 5: Investigate the solution and then run an example analysis\n\nThe solution can be analyzed by displaying the location of the coffee shops on a map."
        },
        {
            "cell_type": "code",
            "execution_count": 20,
            "metadata": {
                "render": false
            },
            "outputs": [
                {
                    "ename": "DOcplexException",
                    "evalue": "Model<coffee shops> did not solve successfully",
                    "output_type": "error",
                    "traceback": [
                        "\u001b[0;31m---------------------------------------------------------------------------\u001b[0m",
                        "\u001b[0;31mDOcplexException\u001b[0m                          Traceback (most recent call last)",
                        "\u001b[0;32m/tmp/wsuser/ipykernel_154/2860110483.py\u001b[0m in \u001b[0;36m<module>\u001b[0;34m\u001b[0m\n\u001b[0;32m----> 1\u001b[0;31m \u001b[0mtotal_distance\u001b[0m \u001b[0;34m=\u001b[0m \u001b[0mmdl\u001b[0m\u001b[0;34m.\u001b[0m\u001b[0mobjective_value\u001b[0m\u001b[0;34m\u001b[0m\u001b[0;34m\u001b[0m\u001b[0m\n\u001b[0m\u001b[1;32m      2\u001b[0m \u001b[0mopen_coffeeshops\u001b[0m \u001b[0;34m=\u001b[0m \u001b[0;34m[\u001b[0m\u001b[0mc_loc\u001b[0m \u001b[0;32mfor\u001b[0m \u001b[0mc_loc\u001b[0m \u001b[0;32min\u001b[0m \u001b[0mcoffeeshop_locations\u001b[0m \u001b[0;32mif\u001b[0m \u001b[0mcoffeeshop_vars\u001b[0m\u001b[0;34m[\u001b[0m\u001b[0mc_loc\u001b[0m\u001b[0;34m]\u001b[0m\u001b[0;34m.\u001b[0m\u001b[0msolution_value\u001b[0m \u001b[0;34m==\u001b[0m \u001b[0;36m1\u001b[0m\u001b[0;34m]\u001b[0m\u001b[0;34m\u001b[0m\u001b[0;34m\u001b[0m\u001b[0m\n\u001b[1;32m      3\u001b[0m \u001b[0mnot_coffeeshops\u001b[0m \u001b[0;34m=\u001b[0m \u001b[0;34m[\u001b[0m\u001b[0mc_loc\u001b[0m \u001b[0;32mfor\u001b[0m \u001b[0mc_loc\u001b[0m \u001b[0;32min\u001b[0m \u001b[0mcoffeeshop_locations\u001b[0m \u001b[0;32mif\u001b[0m \u001b[0mc_loc\u001b[0m \u001b[0;32mnot\u001b[0m \u001b[0;32min\u001b[0m \u001b[0mopen_coffeeshops\u001b[0m\u001b[0;34m]\u001b[0m\u001b[0;34m\u001b[0m\u001b[0;34m\u001b[0m\u001b[0m\n\u001b[1;32m      4\u001b[0m \u001b[0medges\u001b[0m \u001b[0;34m=\u001b[0m \u001b[0;34m[\u001b[0m\u001b[0;34m(\u001b[0m\u001b[0mc_loc\u001b[0m\u001b[0;34m,\u001b[0m \u001b[0mb\u001b[0m\u001b[0;34m)\u001b[0m \u001b[0;32mfor\u001b[0m \u001b[0mb\u001b[0m \u001b[0;32min\u001b[0m \u001b[0mlibraries\u001b[0m \u001b[0;32mfor\u001b[0m \u001b[0mc_loc\u001b[0m \u001b[0;32min\u001b[0m \u001b[0mcoffeeshop_locations\u001b[0m \u001b[0;32mif\u001b[0m \u001b[0mint\u001b[0m\u001b[0;34m(\u001b[0m\u001b[0mlink_vars\u001b[0m\u001b[0;34m[\u001b[0m\u001b[0mc_loc\u001b[0m\u001b[0;34m,\u001b[0m \u001b[0mb\u001b[0m\u001b[0;34m]\u001b[0m\u001b[0;34m)\u001b[0m \u001b[0;34m==\u001b[0m \u001b[0;36m1\u001b[0m\u001b[0;34m]\u001b[0m\u001b[0;34m\u001b[0m\u001b[0;34m\u001b[0m\u001b[0m\n\u001b[1;32m      5\u001b[0m \u001b[0;34m\u001b[0m\u001b[0m\n",
                        "\u001b[0;32m/opt/conda/envs/Python-3.9/lib/python3.9/site-packages/docplex/mp/model.py\u001b[0m in \u001b[0;36mobjective_value\u001b[0;34m(self)\u001b[0m\n\u001b[1;32m   5415\u001b[0m \u001b[0;34m\u001b[0m\u001b[0m\n\u001b[1;32m   5416\u001b[0m         \"\"\"\n\u001b[0;32m-> 5417\u001b[0;31m         \u001b[0mself\u001b[0m\u001b[0;34m.\u001b[0m\u001b[0m_check_has_solution\u001b[0m\u001b[0;34m(\u001b[0m\u001b[0;34m)\u001b[0m\u001b[0;34m\u001b[0m\u001b[0;34m\u001b[0m\u001b[0m\n\u001b[0m\u001b[1;32m   5418\u001b[0m         \u001b[0;32mreturn\u001b[0m \u001b[0mself\u001b[0m\u001b[0;34m.\u001b[0m\u001b[0m_objective_value\u001b[0m\u001b[0;34m(\u001b[0m\u001b[0;34m)\u001b[0m\u001b[0;34m\u001b[0m\u001b[0;34m\u001b[0m\u001b[0m\n\u001b[1;32m   5419\u001b[0m \u001b[0;34m\u001b[0m\u001b[0m\n",
                        "\u001b[0;32m/opt/conda/envs/Python-3.9/lib/python3.9/site-packages/docplex/mp/model.py\u001b[0m in \u001b[0;36m_check_has_solution\u001b[0;34m(self)\u001b[0m\n\u001b[1;32m   5233\u001b[0m                 \u001b[0mself\u001b[0m\u001b[0;34m.\u001b[0m\u001b[0mfatal\u001b[0m\u001b[0;34m(\u001b[0m\u001b[0;34m\"Model<{0}> has not been solved yet\"\u001b[0m\u001b[0;34m,\u001b[0m \u001b[0mself\u001b[0m\u001b[0;34m.\u001b[0m\u001b[0mname\u001b[0m\u001b[0;34m)\u001b[0m\u001b[0;34m\u001b[0m\u001b[0;34m\u001b[0m\u001b[0m\n\u001b[1;32m   5234\u001b[0m             \u001b[0;32melse\u001b[0m\u001b[0;34m:\u001b[0m\u001b[0;34m\u001b[0m\u001b[0;34m\u001b[0m\u001b[0m\n\u001b[0;32m-> 5235\u001b[0;31m                 \u001b[0mself\u001b[0m\u001b[0;34m.\u001b[0m\u001b[0mfatal\u001b[0m\u001b[0;34m(\u001b[0m\u001b[0;34m\"Model<{0}> did not solve successfully\"\u001b[0m\u001b[0;34m,\u001b[0m \u001b[0mself\u001b[0m\u001b[0;34m.\u001b[0m\u001b[0mname\u001b[0m\u001b[0;34m)\u001b[0m\u001b[0;34m\u001b[0m\u001b[0;34m\u001b[0m\u001b[0m\n\u001b[0m\u001b[1;32m   5236\u001b[0m \u001b[0;34m\u001b[0m\u001b[0m\n\u001b[1;32m   5237\u001b[0m     \u001b[0;32mdef\u001b[0m \u001b[0m_check_solved_as_mip\u001b[0m\u001b[0;34m(\u001b[0m\u001b[0mself\u001b[0m\u001b[0;34m,\u001b[0m \u001b[0mcaller\u001b[0m\u001b[0;34m,\u001b[0m \u001b[0mdo_raise\u001b[0m\u001b[0;34m)\u001b[0m\u001b[0;34m:\u001b[0m\u001b[0;34m\u001b[0m\u001b[0;34m\u001b[0m\u001b[0m\n",
                        "\u001b[0;32m/opt/conda/envs/Python-3.9/lib/python3.9/site-packages/docplex/mp/model.py\u001b[0m in \u001b[0;36mfatal\u001b[0;34m(self, msg, *args)\u001b[0m\n\u001b[1;32m   1082\u001b[0m \u001b[0;34m\u001b[0m\u001b[0m\n\u001b[1;32m   1083\u001b[0m     \u001b[0;32mdef\u001b[0m \u001b[0mfatal\u001b[0m\u001b[0;34m(\u001b[0m\u001b[0mself\u001b[0m\u001b[0;34m,\u001b[0m \u001b[0mmsg\u001b[0m\u001b[0;34m,\u001b[0m \u001b[0;34m*\u001b[0m\u001b[0margs\u001b[0m\u001b[0;34m)\u001b[0m\u001b[0;34m:\u001b[0m\u001b[0;34m\u001b[0m\u001b[0;34m\u001b[0m\u001b[0m\n\u001b[0;32m-> 1084\u001b[0;31m         \u001b[0mself\u001b[0m\u001b[0;34m.\u001b[0m\u001b[0m_error_handler\u001b[0m\u001b[0;34m.\u001b[0m\u001b[0mfatal\u001b[0m\u001b[0;34m(\u001b[0m\u001b[0mmsg\u001b[0m\u001b[0;34m,\u001b[0m \u001b[0margs\u001b[0m\u001b[0;34m)\u001b[0m\u001b[0;34m\u001b[0m\u001b[0;34m\u001b[0m\u001b[0m\n\u001b[0m\u001b[1;32m   1085\u001b[0m \u001b[0;34m\u001b[0m\u001b[0m\n\u001b[1;32m   1086\u001b[0m     \u001b[0;32mdef\u001b[0m \u001b[0mfatal_ce_limits\u001b[0m\u001b[0;34m(\u001b[0m\u001b[0mself\u001b[0m\u001b[0;34m,\u001b[0m \u001b[0;34m*\u001b[0m\u001b[0margs\u001b[0m\u001b[0;34m)\u001b[0m\u001b[0;34m:\u001b[0m\u001b[0;34m\u001b[0m\u001b[0;34m\u001b[0m\u001b[0m\n",
                        "\u001b[0;32m/opt/conda/envs/Python-3.9/lib/python3.9/site-packages/docplex/mp/error_handler.py\u001b[0m in \u001b[0;36mfatal\u001b[0;34m(self, msg, args)\u001b[0m\n\u001b[1;32m    208\u001b[0m         \u001b[0mresolved_message\u001b[0m \u001b[0;34m=\u001b[0m \u001b[0mresolve_pattern\u001b[0m\u001b[0;34m(\u001b[0m\u001b[0mmsg\u001b[0m\u001b[0;34m,\u001b[0m \u001b[0margs\u001b[0m\u001b[0;34m)\u001b[0m\u001b[0;34m\u001b[0m\u001b[0;34m\u001b[0m\u001b[0m\n\u001b[1;32m    209\u001b[0m         \u001b[0mdocplex_error_stop_here\u001b[0m\u001b[0;34m(\u001b[0m\u001b[0;34m)\u001b[0m\u001b[0;34m\u001b[0m\u001b[0;34m\u001b[0m\u001b[0m\n\u001b[0;32m--> 210\u001b[0;31m         \u001b[0;32mraise\u001b[0m \u001b[0mDOcplexException\u001b[0m\u001b[0;34m(\u001b[0m\u001b[0mresolved_message\u001b[0m\u001b[0;34m)\u001b[0m\u001b[0;34m\u001b[0m\u001b[0;34m\u001b[0m\u001b[0m\n\u001b[0m\u001b[1;32m    211\u001b[0m \u001b[0;34m\u001b[0m\u001b[0m\n\u001b[1;32m    212\u001b[0m     \u001b[0;32mdef\u001b[0m \u001b[0mfatal_limits_exceeded\u001b[0m\u001b[0;34m(\u001b[0m\u001b[0mself\u001b[0m\u001b[0;34m,\u001b[0m \u001b[0mnb_vars\u001b[0m\u001b[0;34m,\u001b[0m \u001b[0mnb_constraints\u001b[0m\u001b[0;34m)\u001b[0m\u001b[0;34m:\u001b[0m\u001b[0;34m\u001b[0m\u001b[0;34m\u001b[0m\u001b[0m\n",
                        "\u001b[0;31mDOcplexException\u001b[0m: Model<coffee shops> did not solve successfully"
                    ]
                }
            ],
            "source": "total_distance = mdl.objective_value\nopen_coffeeshops = [c_loc for c_loc in coffeeshop_locations if coffeeshop_vars[c_loc].solution_value == 1]\nnot_coffeeshops = [c_loc for c_loc in coffeeshop_locations if c_loc not in open_coffeeshops]\nedges = [(c_loc, b) for b in libraries for c_loc in coffeeshop_locations if int(link_vars[c_loc, b]) == 1]\n\nprint(\"Total distance = %g\" % total_distance)\nprint(\"# coffee shops  = {0}\".format(len(open_coffeeshops)))\nfor c in open_coffeeshops:\n    print(\"new coffee shop: {0!s}\".format(c))"
        },
        {
            "cell_type": "markdown",
            "metadata": {},
            "source": "#### Displaying the solution\nCoffee shops are highlighted in red."
        },
        {
            "cell_type": "code",
            "execution_count": 21,
            "metadata": {
                "scrolled": true
            },
            "outputs": [
                {
                    "ename": "NameError",
                    "evalue": "name 'open_coffeeshops' is not defined",
                    "output_type": "error",
                    "traceback": [
                        "\u001b[0;31m---------------------------------------------------------------------------\u001b[0m",
                        "\u001b[0;31mNameError\u001b[0m                                 Traceback (most recent call last)",
                        "\u001b[0;32m/tmp/wsuser/ipykernel_154/3452377944.py\u001b[0m in \u001b[0;36m<module>\u001b[0;34m\u001b[0m\n\u001b[1;32m      1\u001b[0m \u001b[0;32mimport\u001b[0m \u001b[0mfolium\u001b[0m\u001b[0;34m\u001b[0m\u001b[0;34m\u001b[0m\u001b[0m\n\u001b[1;32m      2\u001b[0m \u001b[0mmap_osm\u001b[0m \u001b[0;34m=\u001b[0m \u001b[0mfolium\u001b[0m\u001b[0;34m.\u001b[0m\u001b[0mMap\u001b[0m\u001b[0;34m(\u001b[0m\u001b[0mlocation\u001b[0m\u001b[0;34m=\u001b[0m\u001b[0;34m[\u001b[0m\u001b[0;36m41.878\u001b[0m\u001b[0;34m,\u001b[0m \u001b[0;34m-\u001b[0m\u001b[0;36m87.629\u001b[0m\u001b[0;34m]\u001b[0m\u001b[0;34m,\u001b[0m \u001b[0mzoom_start\u001b[0m\u001b[0;34m=\u001b[0m\u001b[0;36m11\u001b[0m\u001b[0;34m)\u001b[0m\u001b[0;34m\u001b[0m\u001b[0;34m\u001b[0m\u001b[0m\n\u001b[0;32m----> 3\u001b[0;31m \u001b[0;32mfor\u001b[0m \u001b[0mcoffeeshop\u001b[0m \u001b[0;32min\u001b[0m \u001b[0mopen_coffeeshops\u001b[0m\u001b[0;34m:\u001b[0m\u001b[0;34m\u001b[0m\u001b[0;34m\u001b[0m\u001b[0m\n\u001b[0m\u001b[1;32m      4\u001b[0m     \u001b[0mlt\u001b[0m \u001b[0;34m=\u001b[0m \u001b[0mcoffeeshop\u001b[0m\u001b[0;34m.\u001b[0m\u001b[0my\u001b[0m\u001b[0;34m\u001b[0m\u001b[0;34m\u001b[0m\u001b[0m\n\u001b[1;32m      5\u001b[0m     \u001b[0mlg\u001b[0m \u001b[0;34m=\u001b[0m \u001b[0mcoffeeshop\u001b[0m\u001b[0;34m.\u001b[0m\u001b[0mx\u001b[0m\u001b[0;34m\u001b[0m\u001b[0;34m\u001b[0m\u001b[0m\n",
                        "\u001b[0;31mNameError\u001b[0m: name 'open_coffeeshops' is not defined"
                    ]
                }
            ],
            "source": "import folium\nmap_osm = folium.Map(location=[41.878, -87.629], zoom_start=11)\nfor coffeeshop in open_coffeeshops:\n    lt = coffeeshop.y\n    lg = coffeeshop.x\n    folium.Marker([lt, lg], icon=folium.Icon(color='red',icon='info-sign')).add_to(map_osm)\n    \nfor b in libraries:\n    if b not in open_coffeeshops:\n        lt = b.y\n        lg = b.x\n        folium.Marker([lt, lg]).add_to(map_osm)\n    \n\nfor (c, b) in edges:\n    coordinates = [[c.y, c.x], [b.y, b.x]]\n    map_osm.add_child(folium.PolyLine(coordinates, color='#FF0000', weight=5))\n\nmap_osm"
        },
        {
            "cell_type": "markdown",
            "metadata": {
                "collapsed": true
            },
            "source": "## Summary\n\nYou have learned how to set up, formulate and solve an optimization model using Decision Optimization in Watson Studio."
        },
        {
            "cell_type": "markdown",
            "metadata": {
                "collapsed": true
            },
            "source": "#### References\n* <a href=\"https://rawgit.com/IBMDecisionOptimization/docplex-doc/master/docs/index.html\" target=\"_blank\" rel=\"noopener noreferrer\">Decision Optimization CPLEX Modeling for Python documentation</a>\n* <a href=\"https://dataplatform.cloud.ibm.com/docs/content/wsj/getting-started/welcome-main.html\" target=\"_blank\" rel=\"noopener noreferrer\">Cloud Pak for Data documentation</a>"
        },
        {
            "cell_type": "markdown",
            "metadata": {},
            "source": "Copyright \u00a9 2017-2021 IBM. This notebook and its source code are released under the terms of the MIT License."
        },
        {
            "cell_type": "code",
            "execution_count": null,
            "metadata": {},
            "outputs": [],
            "source": ""
        }
    ],
    "metadata": {
        "celltoolbar": "Dashboard",
        "kernelspec": {
            "display_name": "Python 3.9",
            "language": "python",
            "name": "python3"
        },
        "language_info": {
            "codemirror_mode": {
                "name": "ipython",
                "version": 3
            },
            "file_extension": ".py",
            "mimetype": "text/x-python",
            "name": "python",
            "nbconvert_exporter": "python",
            "pygments_lexer": "ipython3",
            "version": "3.9.7"
        }
    },
    "nbformat": 4,
    "nbformat_minor": 1
}